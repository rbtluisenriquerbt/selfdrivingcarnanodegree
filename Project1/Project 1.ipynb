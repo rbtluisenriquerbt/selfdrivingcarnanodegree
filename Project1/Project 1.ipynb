{
 "cells": [
  {
   "cell_type": "markdown",
   "metadata": {},
   "source": [
    "# 1. Color Selection\n",
    "First, we well need to apply a color filter to our image to retain just the necessary information\n",
    "The following code will import the libraries (A), read the image(B) and print the general data of image (C)\n",
    "## Reading the image"
   ]
  },
  {
   "cell_type": "code",
   "execution_count": 1,
   "metadata": {
    "collapsed": false
   },
   "outputs": [
    {
     "name": "stdout",
     "output_type": "stream",
     "text": [
      "Image General Data\n",
      "This image is:  <type 'numpy.ndarray'> with dimensions :  (540L, 960L, 3L)\n"
     ]
    }
   ],
   "source": [
    "## (A)\n",
    "##Library to make plot printings\n",
    "import matplotlib.pyplot as plt\n",
    "##Library to read image\n",
    "import matplotlib.image as mpimg\n",
    "## Library to make mathematical operations like in matlab\n",
    "import numpy as np\n",
    "\n",
    "## (B)\n",
    "##Reading the image\n",
    "image = mpimg.imread('test.jpg')\n",
    "\n",
    "## (C)\n",
    "##Printing the image general data - type of file and dimensions\n",
    "##The result of type(image) will be numpy.ndarray\n",
    "## which mean a multidimensional array\n",
    "##The result of image.shape will be:\n",
    "## YYPixels,XXPixels,ColorLayer\n",
    "print \"Image General Data\"\n",
    "print 'This image is: ', type(image), 'with dimensions : ', image.shape"
   ]
  },
  {
   "cell_type": "markdown",
   "metadata": {},
   "source": [
    "## Understanding image axis"
   ]
  },
  {
   "cell_type": "markdown",
   "metadata": {},
   "source": [
    "Now we will extract we will extract the size of the image. Make sure you are taking the correct data. Because image.shape[0] is in the y direction and image.shape[1] is in the x direction, but which direction is is x and y ? The following image will explain it better.\n",
    "<img style=\"width:20%;\" src=\"https://www.computerhope.com/jargon/x/xaxis.jpg\">"
   ]
  },
  {
   "cell_type": "code",
   "execution_count": 2,
   "metadata": {
    "collapsed": true
   },
   "outputs": [],
   "source": [
    "## Extracting x and y dimentions\n",
    "ysize = image.shape[0]\n",
    "xsize = image.shape[1]"
   ]
  },
  {
   "cell_type": "markdown",
   "metadata": {},
   "source": [
    "## Applying color Threshold\n",
    "We just want to keep the landlines using a color filter. We already know landlines are white, and the color white is the combination of full Red, Green and White which is equal an #FFFFFF color, but due to camera imperfections, climate, dust and other inexpected perturbancies we need to have an error tolerance, which in my case was 15, but you can use any other of your preference."
   ]
  },
  {
   "cell_type": "code",
   "execution_count": 3,
   "metadata": {
    "collapsed": false
   },
   "outputs": [
    {
     "data": {
      "image/png": "[encoded data removed]",
      "text/plain": [
       "<matplotlib.figure.Figure at 0x48e27f0>"
      ]
     },
     "metadata": {},
     "output_type": "display_data"
    }
   ],
   "source": [
    "## Copying the image to another variable\n",
    "color_select = np.copy(image)\n",
    "## Defining my threshold\n",
    "red_threshold = 240\n",
    "green_threshold = 240\n",
    "blue_threshold = 240\n",
    "## Saving the threshold in an array\n",
    "rgb_threshold = [red_threshold, green_threshold, blue_threshold]\n",
    "\n",
    "## Taking the positions of image which are below the threshold in the three color layers\n",
    "## Note the \"or\" command\n",
    "thresholds = (image[:,:,0]<rgb_threshold[0])\\\n",
    "        | (image[:,:,1]<rgb_threshold[1]) \\\n",
    "        | (image[:,:,2]<rgb_threshold[2])\n",
    "\n",
    "## Making zero the parts below the threshold\n",
    "color_select[thresholds] = [0,0,0]\n",
    "\n",
    "## Showing the image\n",
    "plt.imshow(color_select)\n",
    "plt.show()"
   ]
  }
 ],
 "metadata": {
  "kernelspec": {
   "display_name": "Python 2",
   "language": "python",
   "name": "python2"
  },
  "language_info": {
   "codemirror_mode": {
    "name": "ipython",
    "version": 2
   },
   "file_extension": ".py",
   "mimetype": "text/x-python",
   "name": "python",
   "nbconvert_exporter": "python",
   "pygments_lexer": "ipython2",
   "version": "2.7.13"
  }
 },
 "nbformat": 4,
 "nbformat_minor": 2
}
